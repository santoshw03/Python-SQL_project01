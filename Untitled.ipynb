{
 "cells": [
  {
   "cell_type": "code",
   "execution_count": 2,
   "id": "070e89ad-fc80-4e25-ae78-e7183db2412e",
   "metadata": {},
   "outputs": [],
   "source": [
    "import pandas as pd\n",
    "import matplotlib.pyplot as plt\n",
    "import seaborn as sns\n",
    "import mysql.connector"
   ]
  },
  {
   "cell_type": "code",
   "execution_count": 3,
   "id": "ff8bd3fb-d8ca-47f2-9c8c-d22f4c96a76f",
   "metadata": {},
   "outputs": [
    {
     "name": "stdout",
     "output_type": "stream",
     "text": [
      "Connected to the database\n"
     ]
    }
   ],
   "source": [
    "from mysql.connector import Error\n",
    "\n",
    "try:\n",
    "    # Connect to the MySQL database\n",
    "    db = mysql.connector.connect(\n",
    "        host='localhost',\n",
    "        user='santosh',\n",
    "        password='October@05',\n",
    "        database='ecomm'\n",
    "    )\n",
    "    if db.is_connected():\n",
    "        print(\"Connected to the database\")\n",
    "    cur = db.cursor()\n",
    "except Error as e:\n",
    "    print(f\"Error: {e}\")"
   ]
  },
  {
   "cell_type": "code",
   "execution_count": null,
   "id": "ea8e52e9-412e-40d5-bb80-ff6a8144374d",
   "metadata": {},
   "outputs": [],
   "source": []
  },
  {
   "cell_type": "markdown",
   "id": "253b1f17-063a-46cc-93e9-f3e09092b2d7",
   "metadata": {},
   "source": [
    "# Basic SQL Queries"
   ]
  },
  {
   "cell_type": "code",
   "execution_count": null,
   "id": "11066ab5-cf09-4a1d-89bc-cd4e7d68e86a",
   "metadata": {},
   "outputs": [],
   "source": []
  },
  {
   "cell_type": "markdown",
   "id": "3ef3e1bf-b354-414c-a093-f5726826a275",
   "metadata": {},
   "source": [
    "# 1. List all unique cities where customers are located."
   ]
  },
  {
   "cell_type": "code",
   "execution_count": 25,
   "id": "2e588a2e-41a4-495d-9525-e9dec99ed596",
   "metadata": {},
   "outputs": [
    {
     "data": {
      "text/html": [
       "<div>\n",
       "<style scoped>\n",
       "    .dataframe tbody tr th:only-of-type {\n",
       "        vertical-align: middle;\n",
       "    }\n",
       "\n",
       "    .dataframe tbody tr th {\n",
       "        vertical-align: top;\n",
       "    }\n",
       "\n",
       "    .dataframe thead th {\n",
       "        text-align: right;\n",
       "    }\n",
       "</style>\n",
       "<table border=\"1\" class=\"dataframe\">\n",
       "  <thead>\n",
       "    <tr style=\"text-align: right;\">\n",
       "      <th></th>\n",
       "      <th>Country</th>\n",
       "    </tr>\n",
       "  </thead>\n",
       "  <tbody>\n",
       "    <tr>\n",
       "      <th>0</th>\n",
       "      <td>franca</td>\n",
       "    </tr>\n",
       "    <tr>\n",
       "      <th>1</th>\n",
       "      <td>sao bernardo do campo</td>\n",
       "    </tr>\n",
       "    <tr>\n",
       "      <th>2</th>\n",
       "      <td>sao paulo</td>\n",
       "    </tr>\n",
       "    <tr>\n",
       "      <th>3</th>\n",
       "      <td>mogi das cruzes</td>\n",
       "    </tr>\n",
       "    <tr>\n",
       "      <th>4</th>\n",
       "      <td>campinas</td>\n",
       "    </tr>\n",
       "    <tr>\n",
       "      <th>...</th>\n",
       "      <td>...</td>\n",
       "    </tr>\n",
       "    <tr>\n",
       "      <th>4114</th>\n",
       "      <td>siriji</td>\n",
       "    </tr>\n",
       "    <tr>\n",
       "      <th>4115</th>\n",
       "      <td>natividade da serra</td>\n",
       "    </tr>\n",
       "    <tr>\n",
       "      <th>4116</th>\n",
       "      <td>monte bonito</td>\n",
       "    </tr>\n",
       "    <tr>\n",
       "      <th>4117</th>\n",
       "      <td>sao rafael</td>\n",
       "    </tr>\n",
       "    <tr>\n",
       "      <th>4118</th>\n",
       "      <td>eugenio de castro</td>\n",
       "    </tr>\n",
       "  </tbody>\n",
       "</table>\n",
       "<p>4119 rows × 1 columns</p>\n",
       "</div>"
      ],
      "text/plain": [
       "                    Country\n",
       "0                    franca\n",
       "1     sao bernardo do campo\n",
       "2                 sao paulo\n",
       "3           mogi das cruzes\n",
       "4                  campinas\n",
       "...                     ...\n",
       "4114                 siriji\n",
       "4115    natividade da serra\n",
       "4116           monte bonito\n",
       "4117             sao rafael\n",
       "4118      eugenio de castro\n",
       "\n",
       "[4119 rows x 1 columns]"
      ]
     },
     "execution_count": 25,
     "metadata": {},
     "output_type": "execute_result"
    }
   ],
   "source": [
    "query = '''SELECT DISTINCT(CUSTOMER_CITY) FROM CUSTOMERS'''\n",
    "cur.execute(query)\n",
    "unique_city_data = cur.fetchall()\n",
    "# unique_city_data\n",
    "DF = pd.DataFrame(unique_city_data,columns=[\"Country\"])\n",
    "DF"
   ]
  },
  {
   "cell_type": "code",
   "execution_count": null,
   "id": "bd388c19-aa01-40ed-820d-12fa2a7f7589",
   "metadata": {},
   "outputs": [],
   "source": []
  },
  {
   "cell_type": "markdown",
   "id": "0eca9551-02de-4bb3-88f4-71eda5850862",
   "metadata": {},
   "source": [
    "# 2. Count the number of orders placed in 2017."
   ]
  },
  {
   "cell_type": "code",
   "execution_count": 26,
   "id": "3e04aba3-24cf-48e7-a9ce-f2ec698f4e24",
   "metadata": {},
   "outputs": [
    {
     "data": {
      "text/plain": [
       "45101"
      ]
     },
     "execution_count": 26,
     "metadata": {},
     "output_type": "execute_result"
    }
   ],
   "source": [
    "query = '''SELECT COUNT(*) FROM ORDERS WHERE YEAR(order_purchase_timestamp)=2017'''\n",
    "cur.execute(query)\n",
    "total_orders_2017 = cur.fetchall()\n",
    "total_orders_2017[0][0]"
   ]
  },
  {
   "cell_type": "code",
   "execution_count": null,
   "id": "4a097c2e-845e-4e50-ad1f-fd1665e8c133",
   "metadata": {},
   "outputs": [],
   "source": []
  },
  {
   "cell_type": "markdown",
   "id": "41b3f62f-15ca-4fc7-af65-a675fdd911bf",
   "metadata": {},
   "source": [
    " # 3. Find the total sales per category."
   ]
  },
  {
   "cell_type": "code",
   "execution_count": 31,
   "id": "d8c76c93-4b1b-479f-a60b-458437b54359",
   "metadata": {},
   "outputs": [
    {
     "data": {
      "text/html": [
       "<div>\n",
       "<style scoped>\n",
       "    .dataframe tbody tr th:only-of-type {\n",
       "        vertical-align: middle;\n",
       "    }\n",
       "\n",
       "    .dataframe tbody tr th {\n",
       "        vertical-align: top;\n",
       "    }\n",
       "\n",
       "    .dataframe thead th {\n",
       "        text-align: right;\n",
       "    }\n",
       "</style>\n",
       "<table border=\"1\" class=\"dataframe\">\n",
       "  <thead>\n",
       "    <tr style=\"text-align: right;\">\n",
       "      <th></th>\n",
       "      <th>CATEGORY</th>\n",
       "      <th>TOTAL_SALES_AMOUNT</th>\n",
       "    </tr>\n",
       "  </thead>\n",
       "  <tbody>\n",
       "    <tr>\n",
       "      <th>0</th>\n",
       "      <td>AGRO INDUSTRIA E COMERCIO</td>\n",
       "      <td>118730.61</td>\n",
       "    </tr>\n",
       "    <tr>\n",
       "      <th>1</th>\n",
       "      <td>ART</td>\n",
       "      <td>30992.93</td>\n",
       "    </tr>\n",
       "    <tr>\n",
       "      <th>2</th>\n",
       "      <td>ARTS AND CRAFTS</td>\n",
       "      <td>2326.17</td>\n",
       "    </tr>\n",
       "    <tr>\n",
       "      <th>3</th>\n",
       "      <td>AUDIO</td>\n",
       "      <td>60324.62</td>\n",
       "    </tr>\n",
       "    <tr>\n",
       "      <th>4</th>\n",
       "      <td>AUTOMOTIVE</td>\n",
       "      <td>852294.33</td>\n",
       "    </tr>\n",
       "    <tr>\n",
       "      <th>...</th>\n",
       "      <td>...</td>\n",
       "      <td>...</td>\n",
       "    </tr>\n",
       "    <tr>\n",
       "      <th>68</th>\n",
       "      <td>STATIONARY STORE</td>\n",
       "      <td>317440.07</td>\n",
       "    </tr>\n",
       "    <tr>\n",
       "      <th>69</th>\n",
       "      <td>TECHNICAL BOOKS</td>\n",
       "      <td>24915.44</td>\n",
       "    </tr>\n",
       "    <tr>\n",
       "      <th>70</th>\n",
       "      <td>TELEPHONY</td>\n",
       "      <td>486882.05</td>\n",
       "    </tr>\n",
       "    <tr>\n",
       "      <th>71</th>\n",
       "      <td>TOYS</td>\n",
       "      <td>619037.69</td>\n",
       "    </tr>\n",
       "    <tr>\n",
       "      <th>72</th>\n",
       "      <td>WATCHES PRESENT</td>\n",
       "      <td>1429216.68</td>\n",
       "    </tr>\n",
       "  </tbody>\n",
       "</table>\n",
       "<p>73 rows × 2 columns</p>\n",
       "</div>"
      ],
      "text/plain": [
       "                     CATEGORY  TOTAL_SALES_AMOUNT\n",
       "0   AGRO INDUSTRIA E COMERCIO           118730.61\n",
       "1                         ART            30992.93\n",
       "2             ARTS AND CRAFTS             2326.17\n",
       "3                       AUDIO            60324.62\n",
       "4                  AUTOMOTIVE           852294.33\n",
       "..                        ...                 ...\n",
       "68           STATIONARY STORE           317440.07\n",
       "69            TECHNICAL BOOKS            24915.44\n",
       "70                  TELEPHONY           486882.05\n",
       "71                       TOYS           619037.69\n",
       "72            WATCHES PRESENT          1429216.68\n",
       "\n",
       "[73 rows x 2 columns]"
      ]
     },
     "execution_count": 31,
     "metadata": {},
     "output_type": "execute_result"
    }
   ],
   "source": [
    "query = '''SELECT upper(P.PRODUCT_CATEGORY) CATEGORY,ROUND(SUM(PAY.payment_value),2) AS TOTAL_SALES_AMOUNT\n",
    "            FROM PRODUCTS P JOIN ORDER_ITEMS OI \n",
    "            ON P.product_id = OI.product_id JOIN payments PAY ON OI.ORDER_ID = PAY.order_id\n",
    "            where P.PRODUCT_CATEGORY != 'None'\n",
    "            GROUP BY P.PRODUCT_CATEGORY\n",
    "            ORDER BY CATEGORY'''\n",
    "\n",
    "cur.execute(query)\n",
    "TOTAL_SALES_PER_CATEGORY = cur.fetchall()\n",
    "# TOTAL_SALES_PER_CATEGORY\n",
    "DF = pd.DataFrame(TOTAL_SALES_PER_CATEGORY,columns=[\"CATEGORY\",\"TOTAL_SALES_AMOUNT\"])\n",
    "DF"
   ]
  },
  {
   "cell_type": "code",
   "execution_count": null,
   "id": "227bae48-dba1-4c3d-9935-eeccc1a19fa7",
   "metadata": {},
   "outputs": [],
   "source": []
  },
  {
   "cell_type": "markdown",
   "id": "2da57e8a-303c-48b2-9553-d0b5ffe41679",
   "metadata": {},
   "source": [
    "# 4. Calculate the percentage of orders that were paid in more than 1 installments."
   ]
  },
  {
   "cell_type": "code",
   "execution_count": 46,
   "id": "52f2924b-b282-42df-af9a-960bae640fe5",
   "metadata": {},
   "outputs": [
    {
     "data": {
      "text/plain": [
       "('The percentage of orders that were paid in more than 1 installments is:',\n",
       " Decimal('49.42'))"
      ]
     },
     "execution_count": 46,
     "metadata": {},
     "output_type": "execute_result"
    }
   ],
   "source": [
    "query = ''' select round(sum(case when payment_installments>1 then 1 else 0 end)/count(*)*100,2) from payments\n",
    "'''\n",
    "\n",
    "cur.execute(query)\n",
    "INSTALLMENT_PAYMENTS_PERCENTAGE = cur.fetchall()\n",
    "'The percentage of orders that were paid in more than 1 installments is:',INSTALLMENT_PAYMENTS_PERCENTAGE[0][0]"
   ]
  },
  {
   "cell_type": "code",
   "execution_count": null,
   "id": "2098ddeb-e3ff-46f9-8ee0-3b99f0aab772",
   "metadata": {},
   "outputs": [],
   "source": []
  },
  {
   "cell_type": "markdown",
   "id": "3f4fd880-5999-45ea-96a7-d408d397aa9b",
   "metadata": {},
   "source": [
    "# 5.Count the number of customers from each state. "
   ]
  },
  {
   "cell_type": "code",
   "execution_count": 51,
   "id": "7d9d473e-25ed-4a33-bef8-08baa89a87d9",
   "metadata": {},
   "outputs": [
    {
     "data": {
      "text/html": [
       "<div>\n",
       "<style scoped>\n",
       "    .dataframe tbody tr th:only-of-type {\n",
       "        vertical-align: middle;\n",
       "    }\n",
       "\n",
       "    .dataframe tbody tr th {\n",
       "        vertical-align: top;\n",
       "    }\n",
       "\n",
       "    .dataframe thead th {\n",
       "        text-align: right;\n",
       "    }\n",
       "</style>\n",
       "<table border=\"1\" class=\"dataframe\">\n",
       "  <thead>\n",
       "    <tr style=\"text-align: right;\">\n",
       "      <th></th>\n",
       "      <th>state</th>\n",
       "      <th>num_of_customers</th>\n",
       "    </tr>\n",
       "  </thead>\n",
       "  <tbody>\n",
       "    <tr>\n",
       "      <th>0</th>\n",
       "      <td>SP</td>\n",
       "      <td>41746</td>\n",
       "    </tr>\n",
       "    <tr>\n",
       "      <th>1</th>\n",
       "      <td>SC</td>\n",
       "      <td>3637</td>\n",
       "    </tr>\n",
       "    <tr>\n",
       "      <th>2</th>\n",
       "      <td>MG</td>\n",
       "      <td>11635</td>\n",
       "    </tr>\n",
       "    <tr>\n",
       "      <th>3</th>\n",
       "      <td>PR</td>\n",
       "      <td>5045</td>\n",
       "    </tr>\n",
       "    <tr>\n",
       "      <th>4</th>\n",
       "      <td>RJ</td>\n",
       "      <td>12852</td>\n",
       "    </tr>\n",
       "  </tbody>\n",
       "</table>\n",
       "</div>"
      ],
      "text/plain": [
       "  state  num_of_customers\n",
       "0    SP             41746\n",
       "1    SC              3637\n",
       "2    MG             11635\n",
       "3    PR              5045\n",
       "4    RJ             12852"
      ]
     },
     "execution_count": 51,
     "metadata": {},
     "output_type": "execute_result"
    }
   ],
   "source": [
    "query = ''' select customer_state,count(*) from customers group by customer_state\n",
    "'''\n",
    "\n",
    "cur.execute(query)\n",
    "number_of_customers_per_state = cur.fetchall()\n",
    "# number_of_customers_per_state\n",
    "df = pd.DataFrame(number_of_customers_per_state,columns=[\"state\",\"num_of_customers\"])\n",
    "df.head()"
   ]
  },
  {
   "cell_type": "code",
   "execution_count": null,
   "id": "338525ce-419c-47dc-b39f-52f51e8579bc",
   "metadata": {},
   "outputs": [],
   "source": []
  },
  {
   "cell_type": "markdown",
   "id": "1e601af7-6a71-46e8-b9ab-420bcc9c03ef",
   "metadata": {},
   "source": [
    "# Intermediate Queries"
   ]
  },
  {
   "cell_type": "code",
   "execution_count": null,
   "id": "3c51526c-18df-478c-a006-b07a2489a5c7",
   "metadata": {},
   "outputs": [],
   "source": []
  },
  {
   "cell_type": "markdown",
   "id": "ec4a716f-b4e5-44fc-a800-d3ce936411d8",
   "metadata": {},
   "source": [
    "# 1. Calculate the number of orders per month in 2018."
   ]
  },
  {
   "cell_type": "code",
   "execution_count": 80,
   "id": "2e1b66be-2742-4c92-b959-204e09b0523e",
   "metadata": {},
   "outputs": [
    {
     "data": {
      "image/png": "[encoded data removed]",
      "text/plain": [
       "<Figure size 640x480 with 1 Axes>"
      ]
     },
     "metadata": {},
     "output_type": "display_data"
    }
   ],
   "source": [
    "query = ''' select monthname(order_purchase_timestamp) month,count(*)\n",
    "            from orders where year(order_purchase_timestamp)=2018\n",
    "            group by monthname(order_purchase_timestamp);\n",
    "'''\n",
    "\n",
    "cur.execute(query)\n",
    "orders_per_month = cur.fetchall()\n",
    "df = pd.DataFrame(orders_per_month,columns=[\"month\",\"num_of_orders\"])\n",
    "m = [\"January\",\"February\",\"March\",\"April\",\"May\",\"June\",\"July\",\"August\",\"September\",\"October\",\"November\",\"December\"]\n",
    "gr = sns.barplot(x = df[\"month\"],y = df[\"num_of_orders\"],data = df,order = m , color=\"lightgreen\")\n",
    "plt.xticks(rotation=45)\n",
    "plt.title(\"Number of orders per month in 2018\")\n",
    "gr.bar_label(gr.containers[0])\n",
    "plt.show()"
   ]
  },
  {
   "cell_type": "markdown",
   "id": "754e09ff-1496-4529-b0d6-1150dfcee51b",
   "metadata": {},
   "source": [
    "# 2. Find the average number of products per order, grouped by customer city."
   ]
  },
  {
   "cell_type": "code",
   "execution_count": null,
   "id": "e3caa73a-2793-4cbb-ae8a-7a0042d6803d",
   "metadata": {},
   "outputs": [],
   "source": []
  }
 ],
 "metadata": {
  "kernelspec": {
   "display_name": "Python 3 (ipykernel)",
   "language": "python",
   "name": "python3"
  },
  "language_info": {
   "codemirror_mode": {
    "name": "ipython",
    "version": 3
   },
   "file_extension": ".py",
   "mimetype": "text/x-python",
   "name": "python",
   "nbconvert_exporter": "python",
   "pygments_lexer": "ipython3",
   "version": "3.12.4"
  }
 },
 "nbformat": 4,
 "nbformat_minor": 5
}
